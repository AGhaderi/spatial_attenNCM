{
 "cells": [
  {
   "cell_type": "code",
   "execution_count": 1,
   "metadata": {},
   "outputs": [],
   "source": [
    "%matplotlib inline\n",
    "import pystan\n",
    "import pandas as pd\n",
    "import numpy as np\n",
    "import matplotlib.pyplot as plt\n",
    "import seaborn as sns\n",
    "import arviz as az\n",
    "import scipy\n",
    "from scipy import stats\n",
    "import utils\n",
    "import pickle\n",
    "from scipy.stats import gaussian_kde\n",
    "import itertools"
   ]
  },
  {
   "cell_type": "markdown",
   "metadata": {},
   "source": [
    "### Loading dataset"
   ]
  },
  {
   "cell_type": "code",
   "execution_count": 2,
   "metadata": {},
   "outputs": [],
   "source": [
    "data = utils.get_data()"
   ]
  },
  {
   "cell_type": "markdown",
   "metadata": {},
   "source": [
    "### Cross validation"
   ]
  },
  {
   "cell_type": "code",
   "execution_count": 3,
   "metadata": {},
   "outputs": [],
   "source": [
    "# Unknown and known participants\n",
    "unknown_part, known_parts = utils.unknown_known()\n",
    "tr, val = utils.train_val(y=data['y'].to_numpy(), parts=data['participant'].to_numpy(), cond_coher=data['cond_coher'].to_numpy(), cond_spat=data['cond_spat'].to_numpy(), conds=data['conds'].to_numpy())"
   ]
  },
  {
   "cell_type": "markdown",
   "metadata": {},
   "source": [
    "### Bootstrap"
   ]
  },
  {
   "cell_type": "code",
   "execution_count": 4,
   "metadata": {},
   "outputs": [],
   "source": [
    "run = \"22\"\n",
    "#non parametric bootstrap\n",
    "rand_parts, boot = utils.nonparaboot(y=tr['tr_y'], parts=tr['tr_parts'], cond_coher=tr['tr_cond_coher'], cond_spat=tr['tr_cond_spat'], conds=tr['tr_conds'], run=run)"
   ]
  },
  {
   "cell_type": "markdown",
   "metadata": {},
   "source": [
    "# $Model_t$"
   ]
  },
  {
   "cell_type": "code",
   "execution_count": 13,
   "metadata": {},
   "outputs": [],
   "source": [
    "#set inistial data for molde span\n",
    "data_winner =  {'N':boot.shape[0],              # Number of trial-level observations\n",
    "                'ncohers':2,                            # Number of coherence lelvel\n",
    "                'nspats':2,                             # Number of spatial level\n",
    "                'nparts':24,                            # Number of participants\n",
    "                'y':boot['boot_y'],                       # acc*rt in seconds \n",
    "                'participant':boot['boot_part'],         # participant index\n",
    "                'cond_coher':boot['boot_cond_coher'],     # Coherence index\n",
    "                'cond_spat':boot['boot_cond_spat']};      # sptial index\n",
    "               \n",
    "niters = 10000\n",
    "nwarmup = 2000\n",
    "nchains = 3\n",
    "nthin = 2\n",
    "\n",
    "# initial sampling\n",
    "initials = utils.init_modelt(y=boot['boot_y'], parts=boot['boot_part'], nchains=nchains)"
   ]
  },
  {
   "cell_type": "code",
   "execution_count": 14,
   "metadata": {},
   "outputs": [
    {
     "name": "stderr",
     "output_type": "stream",
     "text": [
      "INFO:pystan:COMPILING THE C++ CODE FOR MODEL anon_model_bcb384f635a648399af6a7cb34dc1d3f NOW.\n"
     ]
    }
   ],
   "source": [
    "modelfile = 'stan/model_t.stan'                        #read model span\n",
    "f = open(modelfile, 'r')\n",
    "model_wiener = f.read()\n",
    "# Compile the model\n",
    "sm = pystan.StanModel(model_code=model_wiener)"
   ]
  },
  {
   "cell_type": "code",
   "execution_count": 15,
   "metadata": {},
   "outputs": [
    {
     "name": "stderr",
     "output_type": "stream",
     "text": [
      "WARNING:pystan:Maximum (flat) parameter count (1000) exceeded: skipping diagnostic tests for n_eff and Rhat.\n",
      "To run all diagnostics call pystan.check_hmc_diagnostics(fit)\n",
      "WARNING:pystan:138 of 12000 iterations ended with a divergence (1.15 %).\n",
      "WARNING:pystan:Try running with adapt_delta larger than 0.8 to remove the divergences.\n"
     ]
    }
   ],
   "source": [
    "# Train the model and generate samples\n",
    "fit = sm.sampling(data=data_winner, iter=niters, chains=nchains, warmup=nwarmup, thin=nthin, init = initials)"
   ]
  },
  {
   "cell_type": "code",
   "execution_count": 16,
   "metadata": {
    "tags": []
   },
   "outputs": [
    {
     "name": "stderr",
     "output_type": "stream",
     "text": [
      "WARNING:pystan:Truncated summary with the 'fit.__repr__' method. For the full summary use 'print(fit)'\n"
     ]
    },
    {
     "data": {
      "text/plain": [
       "\n",
       "Warning: Shown data is truncated to 100 parameters\n",
       "For the full summary use 'print(fit)'\n",
       "\n",
       "Inference for Stan model: anon_model_bcb384f635a648399af6a7cb34dc1d3f.\n",
       "3 chains, each with iter=10000; warmup=2000; thin=2; \n",
       "post-warmup draws per chain=4000, total post-warmup draws=12000.\n",
       "\n",
       "               mean se_mean     sd   2.5%    25%    50%    75%  97.5%  n_eff   Rhat\n",
       "deltasd        0.32  8.5e-4   0.06    0.2   0.28   0.32   0.36   0.45   5372    1.0\n",
       "tersd          0.04  4.6e-5 4.3e-3   0.03   0.04   0.04   0.04   0.05   8602    1.0\n",
       "alphasd        0.19  4.4e-4   0.04   0.13   0.16   0.19   0.21   0.27   6472    1.0\n",
       "etasd          0.39  2.6e-3   0.14   0.14   0.28   0.38   0.47   0.69   3019    1.0\n",
       "deltahier[1]    3.3  1.2e-3    0.1   3.11   3.24    3.3   3.37   3.49   6793    1.0\n",
       "deltahier[2]   1.99  9.4e-4   0.09   1.83   1.94   1.99   2.05   2.16   8392    1.0\n",
       "terhier[1]     0.16  8.7e-5 8.0e-3   0.14   0.15   0.16   0.16   0.17   8305    1.0\n",
       "terhier[2]     0.17  9.0e-5 8.0e-3   0.16   0.17   0.17   0.18   0.19   7926    1.0\n",
       "alphahier      1.42  5.2e-4   0.04   1.33   1.39   1.42   1.45   1.51   7578    1.0\n",
       "etahier        0.39  2.7e-3   0.17   0.04   0.27   0.41   0.52   0.68   3994    1.0\n",
       "delta[1,1]     3.58  2.9e-3   0.24   3.14   3.42   3.57   3.73   4.06   6759    1.0\n",
       "delta[2,1]     2.95  2.9e-3   0.24   2.47   2.79   2.95   3.11   3.41   7034    1.0\n",
       "delta[3,1]     3.34  2.9e-3   0.22   2.92    3.2   3.34   3.49   3.78   5616    1.0\n",
       "delta[4,1]     3.25  2.7e-3   0.22   2.83    3.1   3.25   3.39   3.68   6602    1.0\n",
       "delta[5,1]     3.23  2.4e-3   0.21    2.8   3.08   3.23   3.37   3.63   7735    1.0\n",
       "delta[6,1]     3.25  3.0e-3   0.25   2.77   3.08   3.25   3.41   3.73   6643    1.0\n",
       "delta[7,1]     3.22  2.6e-3   0.22    2.8   3.08   3.22   3.37   3.65   6862    1.0\n",
       "delta[8,1]     3.49  2.3e-3   0.22   3.07   3.34   3.49   3.63   3.92   8540    1.0\n",
       "delta[9,1]     3.49  2.4e-3   0.22   3.08   3.35   3.49   3.64   3.93   8392    1.0\n",
       "delta[10,1]     3.5  2.4e-3   0.22   3.08   3.35   3.49   3.64   3.93   8378    1.0\n",
       "delta[11,1]    3.58  2.6e-3   0.24   3.13   3.42   3.57   3.73   4.07   8126    1.0\n",
       "delta[12,1]    3.19  2.5e-3   0.22   2.76   3.04   3.19   3.33   3.62   7792    1.0\n",
       "delta[13,1]    3.49  2.4e-3   0.22   3.08   3.34   3.49   3.64   3.93   8306    1.0\n",
       "delta[14,1]    3.18  2.6e-3   0.22   2.76   3.04   3.18   3.33   3.61   7205    1.0\n",
       "delta[15,1]    2.95  3.0e-3   0.24   2.48   2.79   2.95   3.11   3.42   6498    1.0\n",
       "delta[16,1]    3.18  2.4e-3   0.22   2.76   3.04   3.18   3.33   3.61   7995    1.0\n",
       "delta[17,1]    2.95  3.0e-3   0.24   2.47   2.79   2.95   3.12   3.42   6401    1.0\n",
       "delta[18,1]    3.49  2.9e-3   0.22   3.07   3.35   3.49   3.64   3.93   5780    1.0\n",
       "delta[19,1]    3.25  2.9e-3   0.25   2.76   3.08   3.25   3.42   3.74   7478    1.0\n",
       "delta[20,1]    3.24  2.5e-3   0.22   2.81    3.1   3.24   3.39   3.67   7694    1.0\n",
       "delta[21,1]    3.25  2.5e-3   0.22   2.82    3.1   3.24   3.39   3.68   7362    1.0\n",
       "delta[22,1]     3.4  2.3e-3   0.21   2.99   3.26    3.4   3.54   3.83   8803    1.0\n",
       "delta[23,1]    3.38  2.3e-3   0.21   2.97   3.24   3.38   3.53   3.81   8401    1.0\n",
       "delta[24,1]    3.45  2.8e-3   0.23    3.0   3.29   3.45    3.6    3.9   6988    1.0\n",
       "delta[1,2]     2.35  2.4e-3   0.21   1.96   2.21   2.35   2.49   2.77   7268    1.0\n",
       "delta[2,2]      1.8  2.4e-3    0.2   1.41   1.66    1.8   1.93    2.2   7338    1.0\n",
       "delta[3,2]      2.3  2.2e-3   0.19   1.93   2.17    2.3   2.42   2.68   7668    1.0\n",
       "delta[4,2]     1.89  2.3e-3   0.19   1.51   1.75   1.88   2.01   2.27   6862    1.0\n",
       "delta[5,2]     1.64  2.2e-3   0.19   1.28   1.51   1.64   1.77   2.01   7343    1.0\n",
       "delta[6,2]     1.49  2.4e-3   0.19   1.11   1.36   1.49   1.62   1.88   6772    1.0\n",
       "delta[7,2]     1.63  2.4e-3   0.19   1.26   1.51   1.63   1.76    2.0   5868    1.0\n",
       "delta[8,2]      2.2  2.0e-3   0.19   1.83   2.07    2.2   2.32   2.58   8989    1.0\n",
       "delta[9,2]      2.2  2.8e-3   0.19   1.83   2.07    2.2   2.32   2.59   4763    1.0\n",
       "delta[10,2]     2.2  2.2e-3   0.19   1.83   2.07    2.2   2.33   2.58   7591    1.0\n",
       "delta[11,2]    2.36  2.3e-3   0.21   1.97   2.21   2.35   2.49    2.8   8596    1.0\n",
       "delta[12,2]    2.03  2.0e-3   0.19   1.67   1.91   2.03   2.15   2.39   8295    1.0\n",
       "delta[13,2]     2.2  2.1e-3   0.19   1.84   2.07    2.2   2.33   2.58   7889    1.0\n",
       "delta[14,2]    2.03  2.1e-3   0.19   1.67    1.9   2.03   2.15    2.4   7681    1.0\n",
       "delta[15,2]    1.79  2.4e-3    0.2    1.4   1.66   1.79   1.93    2.2   7042    1.0\n",
       "delta[16,2]    2.03  2.0e-3   0.19   1.67    1.9   2.02   2.15    2.4   8996    1.0\n",
       "delta[17,2]    1.79  2.3e-3    0.2   1.41   1.66   1.79   1.93    2.2   7584    1.0\n",
       "delta[18,2]     2.2  2.1e-3   0.19   1.84   2.07    2.2   2.33   2.59   8253    1.0\n",
       "delta[19,2]    1.49  2.5e-3    0.2   1.11   1.35   1.49   1.62   1.88   6079    1.0\n",
       "delta[20,2]    1.88  2.2e-3    0.2    1.5   1.75   1.88   2.01   2.27   8276    1.0\n",
       "delta[21,2]    1.89  2.2e-3    0.2   1.51   1.76   1.88   2.02   2.28   7751    1.0\n",
       "delta[22,2]    2.37  2.2e-3    0.2   1.99   2.24   2.37   2.51   2.78   7961    1.0\n",
       "delta[23,2]    1.75  2.1e-3   0.17   1.41   1.63   1.74   1.86   2.09   6820    1.0\n",
       "delta[24,2]    2.38  3.0e-3   0.23   1.94   2.22   2.37   2.53   2.85   6132    1.0\n",
       "ter[1,1]       0.22  9.7e-5 9.3e-3    0.2   0.21   0.22   0.23   0.24   9156    1.0\n",
       "ter[2,1]       0.21  8.5e-5 7.7e-3    0.2   0.21   0.21   0.22   0.23   8156    1.0\n",
       "ter[3,1]       0.13  6.4e-5 5.6e-3   0.12   0.12   0.13   0.13   0.14   7653    1.0\n",
       "ter[4,1]       0.12  7.1e-5 6.8e-3    0.1   0.11   0.12   0.12   0.13   9046    1.0\n",
       "ter[5,1]       0.13  7.5e-5 7.0e-3   0.12   0.13   0.13   0.14   0.14   8548    1.0\n",
       "ter[6,1]       0.15  8.4e-5 7.8e-3   0.13   0.15   0.15   0.16   0.16   8633    1.0\n",
       "ter[7,1]       0.13  7.9e-5 7.0e-3   0.12   0.13   0.13   0.14   0.14   7995    1.0\n",
       "ter[8,1]       0.16  7.9e-5 7.0e-3   0.14   0.15   0.16   0.16   0.17   7795    1.0\n",
       "ter[9,1]       0.16  7.6e-5 6.8e-3   0.14   0.15   0.16   0.16   0.17   8025    1.0\n",
       "ter[10,1]      0.16  9.8e-5 6.9e-3   0.14   0.15   0.16   0.16   0.17   5036    1.0\n",
       "ter[11,1]      0.22  1.0e-4 9.2e-3    0.2   0.21   0.22   0.23   0.24   8403    1.0\n",
       "ter[12,1]      0.13  1.1e-4   0.01   0.11   0.12   0.13   0.14   0.15   8694    1.0\n",
       "ter[13,1]      0.16  7.8e-5 7.0e-3   0.14   0.15   0.16   0.16   0.17   8015    1.0\n",
       "ter[14,1]      0.13  1.1e-4   0.01   0.11   0.12   0.13   0.14   0.15   8642    1.0\n",
       "ter[15,1]      0.21  7.8e-5 7.6e-3    0.2   0.21   0.21   0.22   0.23   9658    1.0\n",
       "ter[16,1]      0.13  1.1e-4   0.01   0.11   0.12   0.13   0.14   0.15   8750    1.0\n",
       "ter[17,1]      0.21  8.5e-5 7.9e-3    0.2   0.21   0.21   0.22   0.23   8548    1.0\n",
       "ter[18,1]      0.16  7.6e-5 7.0e-3   0.14   0.15   0.16   0.16   0.17   8572    1.0\n",
       "ter[19,1]      0.15  8.4e-5 7.6e-3   0.13   0.15   0.15   0.16   0.16   8306    1.0\n",
       "ter[20,1]      0.12  7.1e-5 6.7e-3    0.1   0.11   0.12   0.12   0.13   8845    1.0\n",
       "ter[21,1]      0.12  7.6e-5 6.8e-3    0.1   0.11   0.12   0.12   0.13   7882    1.0\n",
       "ter[22,1]       0.2  7.9e-5 7.0e-3   0.18    0.2    0.2    0.2   0.21   7850    1.0\n",
       "ter[23,1]      0.17  9.8e-5 9.4e-3   0.15   0.16   0.17   0.18   0.18   9217    1.0\n",
       "ter[24,1]      0.12  6.1e-5 5.7e-3   0.11   0.12   0.12   0.13   0.13   8723    1.0\n",
       "ter[1,2]       0.22  7.9e-5 7.4e-3    0.2   0.21   0.22   0.22   0.23   8763    1.0\n",
       "ter[2,2]       0.21  8.7e-5 8.2e-3   0.19    0.2   0.21   0.21   0.22   8866    1.0\n",
       "ter[3,2]       0.18  1.1e-4 9.2e-3   0.16   0.17   0.18   0.18   0.19   7629    1.0\n",
       "ter[4,2]       0.12  6.6e-5 6.1e-3   0.11   0.12   0.12   0.13   0.13   8433    1.0\n",
       "ter[5,2]       0.13  6.4e-5 6.1e-3   0.11   0.12   0.13   0.13   0.14   9026    1.0\n",
       "ter[6,2]       0.17  9.3e-5 9.1e-3   0.15   0.17   0.17   0.18   0.19   9558    1.0\n",
       "ter[7,2]       0.13  6.7e-5 6.2e-3   0.11   0.12   0.13   0.13   0.14   8577    1.0\n",
       "ter[8,2]       0.17  8.7e-5 7.7e-3   0.16   0.17   0.17   0.18   0.19   7725    1.0\n",
       "ter[9,2]       0.17  8.1e-5 7.5e-3   0.16   0.17   0.17   0.18   0.19   8719    1.0\n",
       "ter[10,2]      0.17  7.5e-5 7.6e-3   0.16   0.17   0.17   0.18   0.19  10122    1.0\n",
       "ter[11,2]      0.22  9.8e-5 7.3e-3    0.2   0.21   0.22   0.22   0.23   5648    1.0\n",
       "ter[12,2]      0.16  9.3e-5 8.6e-3   0.14   0.15   0.16   0.17   0.17   8637    1.0\n",
       "ter[13,2]      0.17  8.8e-5 7.7e-3   0.16   0.17   0.17   0.18   0.19   7766    1.0\n",
       "ter[14,2]      0.16  9.6e-5 8.6e-3   0.14   0.15   0.16   0.17   0.17   8062    1.0\n",
       "ter[15,2]      0.21  9.6e-5 8.2e-3   0.19    0.2   0.21   0.21   0.22   7273    1.0\n",
       "ter[16,2]      0.16  9.4e-5 8.8e-3   0.14   0.15   0.16   0.17   0.17   8693    1.0\n",
       "ter[17,2]      0.21  9.3e-5 8.2e-3   0.19    0.2   0.21   0.21   0.22   7859    1.0\n",
       "lp__         2084.6    0.23  11.91 2061.3 2076.7 2084.7 2092.6 2107.5   2687    1.0\n",
       "\n",
       "Samples were drawn using NUTS at Mon Nov 15 15:59:15 2021.\n",
       "For each parameter, n_eff is a crude measure of effective sample size,\n",
       "and Rhat is the potential scale reduction factor on split chains (at \n",
       "convergence, Rhat=1)."
      ]
     },
     "execution_count": 16,
     "metadata": {},
     "output_type": "execute_result"
    }
   ],
   "source": [
    "fit"
   ]
  },
  {
   "cell_type": "markdown",
   "metadata": {},
   "source": [
    "### Save model fitting"
   ]
  },
  {
   "cell_type": "code",
   "execution_count": 17,
   "metadata": {},
   "outputs": [],
   "source": [
    "fit.to_dataframe().to_csv(\"boot/\"+run+\"/\"+run+\"_modelt.csv\")"
   ]
  },
  {
   "cell_type": "code",
   "execution_count": 18,
   "metadata": {},
   "outputs": [
    {
     "name": "stderr",
     "output_type": "stream",
     "text": [
      "/home/a.ghaderi/Stan/Models/New/model_wihtout_eeg/Original/utils.py:87: UserWarning: Pickling fit objects is an experimental feature!\n",
      "The relevant StanModel instance must be pickled along with this fit object.\n",
      "When unpickling the StanModel must be unpickled first.\n",
      "  pickle.dump({\"model\" : stan_model, \"fit\" : stan_fit}, f, protocol=pickle.HIGHEST_PROTOCOL)\n"
     ]
    },
    {
     "name": "stdout",
     "output_type": "stream",
     "text": [
      "Saved results to  boot/22/22_modelt.pkl\n"
     ]
    }
   ],
   "source": [
    "utils.to_pickle(stan_model=sm, stan_fit= fit, save_path=\"boot/\"+run+\"/\"+run+\"_modelt.pkl\")"
   ]
  },
  {
   "cell_type": "markdown",
   "metadata": {},
   "source": [
    "# $Model_v$"
   ]
  },
  {
   "cell_type": "code",
   "execution_count": 21,
   "metadata": {},
   "outputs": [],
   "source": [
    "#set inistial data for molde span\n",
    "data_winner =  {'N':boot.shape[0],                      # Number of trial-level observations\n",
    "                'nconds':4,                             # Number of conditions\n",
    "                'nparts':24,                            # Number of participants\n",
    "                'y':boot['boot_y'],                     # acc*rt in seconds \n",
    "                'participant':boot['boot_part'],        # participant index\n",
    "                'conds':boot['boot_conds']};           # condition index\n",
    "               \n",
    "niters = 10000\n",
    "nwarmup = 2000\n",
    "nchains = 3\n",
    "nthin = 2\n",
    "\n",
    "# initial sampling\n",
    "initials = utils.init_modelv(y=boot['boot_y'], parts=boot['boot_part'], nchains=nchains)"
   ]
  },
  {
   "cell_type": "code",
   "execution_count": 22,
   "metadata": {
    "tags": []
   },
   "outputs": [
    {
     "name": "stderr",
     "output_type": "stream",
     "text": [
      "INFO:pystan:COMPILING THE C++ CODE FOR MODEL anon_model_1e0ae08983f1800825dd1583bbe8bb5c NOW.\n"
     ]
    }
   ],
   "source": [
    "# Train the model and generate samples\n",
    "modelfile = 'stan/model_v.stan'                        #read model span\n",
    "f = open(modelfile, 'r')\n",
    "model_wiener = f.read()\n",
    "# Compile the model\n",
    "sm = pystan.StanModel(model_code=model_wiener)"
   ]
  },
  {
   "cell_type": "code",
   "execution_count": 23,
   "metadata": {},
   "outputs": [
    {
     "name": "stderr",
     "output_type": "stream",
     "text": [
      "WARNING:pystan:Maximum (flat) parameter count (1000) exceeded: skipping diagnostic tests for n_eff and Rhat.\n",
      "To run all diagnostics call pystan.check_hmc_diagnostics(fit)\n",
      "WARNING:pystan:352 of 12000 iterations ended with a divergence (2.93 %).\n",
      "WARNING:pystan:Try running with adapt_delta larger than 0.8 to remove the divergences.\n"
     ]
    }
   ],
   "source": [
    "# Train the model and generate samples\n",
    "fit = sm.sampling(data=data_winner, iter=niters, chains=nchains, warmup=nwarmup, thin=nthin, init = initials)"
   ]
  },
  {
   "cell_type": "code",
   "execution_count": 24,
   "metadata": {
    "tags": []
   },
   "outputs": [
    {
     "name": "stderr",
     "output_type": "stream",
     "text": [
      "WARNING:pystan:Truncated summary with the 'fit.__repr__' method. For the full summary use 'print(fit)'\n"
     ]
    },
    {
     "data": {
      "text/plain": [
       "\n",
       "Warning: Shown data is truncated to 100 parameters\n",
       "For the full summary use 'print(fit)'\n",
       "\n",
       "Inference for Stan model: anon_model_1e0ae08983f1800825dd1583bbe8bb5c.\n",
       "3 chains, each with iter=10000; warmup=2000; thin=2; \n",
       "post-warmup draws per chain=4000, total post-warmup draws=12000.\n",
       "\n",
       "               mean se_mean     sd   2.5%    25%    50%    75%  97.5%  n_eff   Rhat\n",
       "deltasd        0.34  2.4e-3   0.06   0.23    0.3   0.34   0.38   0.46    558   1.01\n",
       "tersd          0.04  8.0e-5 5.9e-3   0.03   0.03   0.04   0.04   0.05   5436    1.0\n",
       "alphasd        0.21  3.9e-4   0.04   0.15   0.18   0.21   0.23    0.3   9349    1.0\n",
       "etasd          0.44  8.8e-3   0.15    0.1   0.34   0.43   0.53   0.75    293   1.01\n",
       "deltahier[1]   3.55  2.8e-3   0.11   3.33   3.47   3.55   3.62   3.77   1660    1.0\n",
       "deltahier[2]   3.15  1.7e-3   0.11   2.95   3.08   3.15   3.22   3.37   3832    1.0\n",
       "deltahier[3]   2.12  5.7e-3   0.11   1.92   2.05   2.12   2.19   2.35    343   1.01\n",
       "deltahier[4]   1.93  1.1e-3   0.09   1.74   1.86   1.93   1.99   2.12   7001    1.0\n",
       "terhier        0.16  8.4e-5 7.6e-3   0.15   0.16   0.16   0.17   0.18   8342    1.0\n",
       "alphahier      1.45  6.0e-4   0.05   1.36   1.42   1.45   1.48   1.55   6540    1.0\n",
       "etahier        0.38  3.4e-3   0.17   0.04   0.25    0.4   0.51   0.68   2673    1.0\n",
       "delta[1,1]     3.81  2.8e-3   0.27   3.29   3.63   3.81   3.99   4.34   8723    1.0\n",
       "delta[2,1]      3.1  3.7e-3   0.29   2.53   2.91   3.11    3.3   3.66   6130    1.0\n",
       "delta[3,1]      3.5    0.01   0.26   3.01   3.32   3.49   3.66   4.07    392   1.01\n",
       "delta[4,1]     3.37  4.9e-3   0.27   2.84   3.19   3.38   3.56   3.91   3069    1.0\n",
       "delta[5,1]      3.6  4.0e-3   0.27   3.08   3.42    3.6   3.78   4.14   4568    1.0\n",
       "delta[6,1]     3.73  3.5e-3   0.28   3.19   3.53   3.72   3.92   4.29   6464    1.0\n",
       "delta[7,1]      3.6  3.7e-3   0.26   3.09   3.43    3.6   3.78   4.12   5049    1.0\n",
       "delta[8,1]     3.47  2.9e-3   0.25   2.98   3.31   3.47   3.63   3.94   7309    1.0\n",
       "delta[9,1]     3.46  5.3e-3   0.25   2.97   3.29   3.46   3.63   3.95   2263    1.0\n",
       "delta[10,1]    3.47  3.2e-3   0.25   2.99   3.31   3.48   3.64   3.96   6106    1.0\n",
       "delta[11,1]    3.82  5.6e-3   0.27   3.28   3.63   3.81    4.0   4.36   2421    1.0\n",
       "delta[12,1]    3.78  3.8e-3   0.27   3.28    3.6   3.77   3.95   4.31   4932    1.0\n",
       "delta[13,1]    3.47  5.6e-3   0.25   2.97    3.3   3.46   3.63   3.96   1998    1.0\n",
       "delta[14,1]    3.78  4.1e-3   0.27   3.26    3.6   3.78   3.96   4.33   4292    1.0\n",
       "delta[15,1]    3.08  8.5e-3    0.3   2.48   2.88   3.09   3.29   3.66   1235    1.0\n",
       "delta[16,1]    3.79  3.2e-3   0.27   3.26    3.6   3.78   3.97   4.33   7105    1.0\n",
       "delta[17,1]     3.1  3.9e-3   0.29   2.51   2.91    3.1   3.29   3.65   5353    1.0\n",
       "delta[18,1]    3.46    0.01   0.26   2.89   3.29   3.46   3.63   3.94    391   1.01\n",
       "delta[19,1]    3.73  3.4e-3   0.28    3.2   3.54   3.73   3.91   4.28   6762    1.0\n",
       "delta[20,1]    3.38  2.9e-3   0.26   2.84    3.2   3.38   3.55    3.9   8436    1.0\n",
       "delta[21,1]    3.37    0.01   0.28   2.79   3.19   3.38   3.56   3.91    477   1.01\n",
       "delta[22,1]    3.71  2.8e-3   0.25   3.23   3.55   3.71   3.88    4.2   7914    1.0\n",
       "delta[23,1]    3.78  8.2e-3   0.26   3.26    3.6   3.78   3.95    4.3   1006    1.0\n",
       "delta[24,1]    3.78  3.7e-3   0.28   3.24   3.58   3.77   3.97   4.34   5687    1.0\n",
       "delta[1,2]     3.27  4.0e-3   0.25   2.78   3.09   3.27   3.44   3.78   4058    1.0\n",
       "delta[2,2]      3.1  9.6e-3   0.27   2.56   2.92   3.09   3.28   3.62    794    1.0\n",
       "delta[3,2]     3.21  5.1e-3   0.25   2.73   3.05   3.21   3.39    3.7   2383    1.0\n",
       "delta[4,2]      3.2  3.1e-3   0.26   2.71   3.03    3.2   3.38   3.72   6616    1.0\n",
       "delta[5,2]     3.02  7.6e-3   0.25   2.53   2.86   3.02   3.19   3.51   1067   1.01\n",
       "delta[6,2]     2.99  3.6e-3   0.27   2.46    2.8   2.98   3.17   3.52   5809    1.0\n",
       "delta[7,2]      3.0  5.0e-3   0.25   2.51   2.83   3.01   3.17   3.49   2502    1.0\n",
       "delta[8,2]     3.48  3.0e-3   0.26   2.98   3.31   3.48   3.65   4.02   7410    1.0\n",
       "delta[9,2]     3.49  2.9e-3   0.26   2.99   3.31   3.48   3.66   4.01   8059    1.0\n",
       "delta[10,2]    3.49  3.2e-3   0.26   2.99   3.31   3.48   3.65   4.02   6595    1.0\n",
       "delta[11,2]    3.25    0.02   0.28   2.64   3.09   3.26   3.44   3.78    228   1.01\n",
       "delta[12,2]    2.79  6.0e-3   0.24   2.31   2.63    2.8   2.95   3.26   1617    1.0\n",
       "delta[13,2]    3.49  5.9e-3   0.26   2.97    3.3   3.48   3.67    4.0   1994    1.0\n",
       "delta[14,2]     2.8  3.4e-3   0.24   2.34   2.64    2.8   2.96   3.27   4866    1.0\n",
       "delta[15,2]     3.1    0.01   0.27   2.57   2.92    3.1   3.28   3.63    709   1.01\n",
       "delta[16,2]     2.8  3.1e-3   0.24   2.34   2.64    2.8   2.96   3.27   5737    1.0\n",
       "delta[17,2]    3.09    0.01   0.28   2.48   2.91    3.1   3.28   3.62    386   1.01\n",
       "delta[18,2]    3.49  4.6e-3   0.26   2.99   3.31   3.49   3.67   4.01   3186    1.0\n",
       "delta[19,2]    2.98    0.01   0.28   2.42   2.79   2.98   3.17   3.52    660    1.0\n",
       "delta[20,2]    3.21  8.1e-3   0.26    2.7   3.04   3.21   3.39   3.73   1032    1.0\n",
       "delta[21,2]     3.2  2.9e-3   0.25   2.71   3.03    3.2   3.37   3.71   7488    1.0\n",
       "delta[22,2]    3.02  3.7e-3   0.24   2.55   2.86   3.03   3.19   3.49   4168    1.0\n",
       "delta[23,2]    3.06  3.0e-3   0.24   2.59    2.9   3.05   3.22   3.54   6576    1.0\n",
       "delta[24,2]    3.09  5.4e-3   0.27   2.56   2.91    3.1   3.28   3.62   2565    1.0\n",
       "delta[1,3]     2.48  8.0e-3   0.25   1.99   2.31   2.47   2.65    3.0   1026   1.01\n",
       "delta[2,3]     1.82  3.2e-3   0.25   1.33   1.65   1.82   1.99    2.3   6193    1.0\n",
       "delta[3,3]     2.48  9.6e-3   0.25    2.0    2.3   2.47   2.64   2.97    678    1.0\n",
       "delta[4,3]     2.01  4.1e-3   0.24   1.52   1.85   2.01   2.17   2.48   3546    1.0\n",
       "delta[5,3]     1.73  2.5e-3   0.23   1.29   1.59   1.73   1.88   2.18   7923    1.0\n",
       "delta[6,3]     1.59  4.0e-3   0.24   1.13   1.43   1.59   1.76   2.07   3562    1.0\n",
       "delta[7,3]     1.73  2.5e-3   0.23   1.27   1.58   1.73   1.88   2.18   8064    1.0\n",
       "delta[8,3]     2.33  9.8e-3   0.25   1.84   2.15   2.32   2.49   2.83    647    1.0\n",
       "delta[9,3]     2.32  3.0e-3   0.24   1.85   2.16   2.32   2.48   2.81   6732    1.0\n",
       "delta[10,3]    2.32  6.2e-3   0.25   1.84   2.15   2.32   2.48   2.81   1591    1.0\n",
       "delta[11,3]    2.47  2.8e-3   0.25    2.0    2.3   2.46   2.63   2.99   8051    1.0\n",
       "delta[12,3]    2.28  4.6e-3   0.24   1.82   2.12   2.27   2.43   2.74   2586    1.0\n",
       "delta[13,3]    2.32  5.5e-3   0.24   1.86   2.16   2.32   2.49   2.79   1938    1.0\n",
       "delta[14,3]    2.27  2.8e-3   0.23   1.83   2.12   2.27   2.43   2.73   6979    1.0\n",
       "delta[15,3]    1.81  5.0e-3   0.25   1.33   1.64   1.81   1.98    2.3   2517    1.0\n",
       "delta[16,3]    2.27  5.0e-3   0.24   1.82    2.1   2.26   2.43   2.75   2309    1.0\n",
       "delta[17,3]    1.81  3.7e-3   0.25   1.32   1.64    1.8   1.98    2.3   4422    1.0\n",
       "delta[18,3]    2.32  3.1e-3   0.24   1.85   2.16   2.32   2.48    2.8   6206    1.0\n",
       "delta[19,3]    1.59  8.3e-3   0.24    1.1   1.43   1.59   1.75   2.05    844    1.0\n",
       "delta[20,3]     2.0  3.0e-3   0.24   1.53   1.83    2.0   2.16   2.46   6546    1.0\n",
       "delta[21,3]    2.01  4.9e-3   0.25   1.51   1.84   2.01   2.17   2.48   2593    1.0\n",
       "delta[22,3]    2.44  3.5e-3   0.24   1.99   2.28   2.44    2.6   2.91   4645    1.0\n",
       "delta[23,3]    1.92  2.7e-3   0.22    1.5   1.77   1.91   2.06   2.35   6576    1.0\n",
       "delta[24,3]    2.54  5.9e-3   0.28    2.0   2.34   2.53   2.72   3.11   2272    1.0\n",
       "delta[1,4]     2.12  6.1e-3   0.23   1.67   1.96   2.11   2.27   2.58   1462    1.0\n",
       "delta[2,4]     1.96  2.8e-3   0.24   1.49    1.8   1.96   2.12   2.43   7365    1.0\n",
       "delta[3,4]      2.1  2.8e-3   0.22   1.69   1.96    2.1   2.25   2.53   5870    1.0\n",
       "delta[4,4]     1.86  2.7e-3   0.23    1.4    1.7   1.86   2.01   2.32   7676    1.0\n",
       "delta[5,4]     1.71  2.8e-3   0.23   1.25   1.56   1.71   1.87   2.17   6729    1.0\n",
       "delta[6,4]     1.63  3.1e-3   0.22   1.19   1.48   1.62   1.78   2.07   5309    1.0\n",
       "delta[7,4]     1.72  3.3e-3   0.23   1.27   1.56   1.72   1.87   2.17   4859    1.0\n",
       "delta[8,4]     2.06  3.0e-3   0.22   1.64    1.9   2.05    2.2   2.49   5373    1.0\n",
       "delta[9,4]     2.06  2.9e-3   0.22   1.65   1.92   2.06   2.21    2.5   5809    1.0\n",
       "delta[10,4]    2.07  6.4e-3   0.22   1.63   1.92   2.07   2.22    2.5   1209    1.0\n",
       "delta[11,4]     2.1    0.01   0.24   1.59   1.94    2.1   2.26   2.56    510   1.01\n",
       "delta[12,4]    1.84  3.5e-3   0.21   1.43    1.7   1.85   1.99   2.26   3650    1.0\n",
       "delta[13,4]    2.06  6.9e-3   0.23   1.61    1.9   2.06   2.21    2.5   1075    1.0\n",
       "delta[14,4]    1.84  2.3e-3   0.21   1.42    1.7   1.84   1.98   2.25   8352    1.0\n",
       "delta[15,4]    1.95  5.7e-3   0.24   1.46   1.79   1.95   2.12   2.43   1849    1.0\n",
       "delta[16,4]    1.84  2.5e-3   0.21   1.42    1.7   1.84   1.98   2.26   7199    1.0\n",
       "lp__         2080.6    0.27  13.91 2053.1 2071.3 2080.6 2089.8 2108.5   2741    1.0\n",
       "\n",
       "Samples were drawn using NUTS at Mon Nov 15 17:04:29 2021.\n",
       "For each parameter, n_eff is a crude measure of effective sample size,\n",
       "and Rhat is the potential scale reduction factor on split chains (at \n",
       "convergence, Rhat=1)."
      ]
     },
     "execution_count": 24,
     "metadata": {},
     "output_type": "execute_result"
    }
   ],
   "source": [
    "fit"
   ]
  },
  {
   "cell_type": "markdown",
   "metadata": {},
   "source": [
    "### Save model fitting"
   ]
  },
  {
   "cell_type": "code",
   "execution_count": 25,
   "metadata": {},
   "outputs": [],
   "source": [
    "fit.to_dataframe().to_csv(\"boot/\"+run+\"/\"+run+\"_modelv.csv\")"
   ]
  },
  {
   "cell_type": "code",
   "execution_count": 26,
   "metadata": {},
   "outputs": [
    {
     "name": "stderr",
     "output_type": "stream",
     "text": [
      "/home/a.ghaderi/Stan/Models/New/model_wihtout_eeg/Original/utils.py:87: UserWarning: Pickling fit objects is an experimental feature!\n",
      "The relevant StanModel instance must be pickled along with this fit object.\n",
      "When unpickling the StanModel must be unpickled first.\n",
      "  pickle.dump({\"model\" : stan_model, \"fit\" : stan_fit}, f, protocol=pickle.HIGHEST_PROTOCOL)\n"
     ]
    },
    {
     "name": "stdout",
     "output_type": "stream",
     "text": [
      "Saved results to  boot/22/22_modelv.pkl\n"
     ]
    }
   ],
   "source": [
    "utils.to_pickle(stan_model=sm, stan_fit= fit, save_path=\"boot/\"+run+\"/\"+run+\"_modelv.pkl\")"
   ]
  },
  {
   "cell_type": "markdown",
   "metadata": {},
   "source": [
    "# $Model_a$"
   ]
  },
  {
   "cell_type": "code",
   "execution_count": 5,
   "metadata": {},
   "outputs": [],
   "source": [
    "#set inistial data for molde span\n",
    "data_winner =  {'N':boot.shape[0],              # Number of trial-level observations\n",
    "                'ncohers':2,                            # Number of coherence lelvel\n",
    "                'nspats':2,                             # Number of spatial level\n",
    "                'nparts':24,                            # Number of participants\n",
    "                'y':boot['boot_y'],                       # acc*rt in seconds \n",
    "                'participant':boot['boot_part'],         # participant index\n",
    "                'cond_coher':boot['boot_cond_coher'],     # Coherence index\n",
    "                'cond_spat':boot['boot_cond_spat']};      # sptial index\n",
    "               \n",
    "niters = 10000\n",
    "nwarmup = 2000\n",
    "nchains = 3\n",
    "nthin = 2\n",
    "\n",
    "# initial sampling\n",
    "initials = utils.init_modela(y=boot['boot_y'], parts=boot['boot_part'], nchains=nchains)"
   ]
  },
  {
   "cell_type": "code",
   "execution_count": 6,
   "metadata": {},
   "outputs": [
    {
     "name": "stderr",
     "output_type": "stream",
     "text": [
      "INFO:pystan:COMPILING THE C++ CODE FOR MODEL anon_model_9d8a5577c43f0848a0d43c7dc55a8106 NOW.\n"
     ]
    }
   ],
   "source": [
    "modelfile = 'stan/model_a.stan'                        #read model span\n",
    "f = open(modelfile, 'r')\n",
    "model_wiener = f.read()\n",
    "# Compile the model\n",
    "sm = pystan.StanModel(model_code=model_wiener)"
   ]
  },
  {
   "cell_type": "code",
   "execution_count": 7,
   "metadata": {},
   "outputs": [
    {
     "name": "stderr",
     "output_type": "stream",
     "text": [
      "WARNING:pystan:Maximum (flat) parameter count (1000) exceeded: skipping diagnostic tests for n_eff and Rhat.\n",
      "To run all diagnostics call pystan.check_hmc_diagnostics(fit)\n",
      "WARNING:pystan:179 of 12000 iterations ended with a divergence (1.49 %).\n",
      "WARNING:pystan:Try running with adapt_delta larger than 0.8 to remove the divergences.\n"
     ]
    }
   ],
   "source": [
    "# Train the model and generate samples\n",
    "fit = sm.sampling(data=data_winner, iter=niters, chains=nchains, warmup=nwarmup, thin=nthin, init = initials)"
   ]
  },
  {
   "cell_type": "code",
   "execution_count": 8,
   "metadata": {
    "tags": []
   },
   "outputs": [
    {
     "name": "stderr",
     "output_type": "stream",
     "text": [
      "WARNING:pystan:Truncated summary with the 'fit.__repr__' method. For the full summary use 'print(fit)'\n"
     ]
    },
    {
     "data": {
      "text/plain": [
       "\n",
       "Warning: Shown data is truncated to 100 parameters\n",
       "For the full summary use 'print(fit)'\n",
       "\n",
       "Inference for Stan model: anon_model_9d8a5577c43f0848a0d43c7dc55a8106.\n",
       "3 chains, each with iter=10000; warmup=2000; thin=2; \n",
       "post-warmup draws per chain=4000, total post-warmup draws=12000.\n",
       "\n",
       "               mean se_mean     sd   2.5%    25%    50%    75%  97.5%  n_eff   Rhat\n",
       "deltasd        0.32  8.7e-4   0.06   0.21   0.27   0.31   0.36   0.45   4845    1.0\n",
       "tersd          0.04  6.2e-5 5.9e-3   0.03   0.03   0.04   0.04   0.05   9161    1.0\n",
       "alphasd         0.2  3.3e-4   0.03   0.15   0.18   0.19   0.21   0.25   6894    1.0\n",
       "etasd          0.39  2.7e-3   0.14   0.15   0.29   0.38   0.48    0.7   2800    1.0\n",
       "deltahier[1]   3.31  1.3e-3    0.1   3.12   3.24   3.31   3.37    3.5   5424    1.0\n",
       "deltahier[2]   2.01  1.1e-3   0.09   1.84   1.95   2.01   2.06   2.18   5699    1.0\n",
       "terhier        0.16  8.7e-5 7.6e-3   0.15   0.16   0.16   0.17   0.18   7776    1.0\n",
       "alphahier[1]   1.38  6.0e-4   0.05    1.3   1.35   1.38   1.42   1.48   5828    1.0\n",
       "alphahier[2]    1.5  5.9e-4   0.05   1.41   1.47    1.5   1.53   1.59   6236    1.0\n",
       "etahier         0.4  2.8e-3   0.17   0.05   0.28   0.41   0.52    0.7   3737    1.0\n",
       "delta[1,1]     3.58  3.0e-3   0.24   3.15   3.42   3.57   3.73   4.07   6338    1.0\n",
       "delta[2,1]     2.97  3.0e-3   0.24    2.5   2.81   2.97   3.13   3.43   6542    1.0\n",
       "delta[3,1]     3.33  2.9e-3   0.21   2.91   3.18   3.33   3.47   3.74   5279    1.0\n",
       "delta[4,1]     3.28  2.4e-3   0.22   2.86   3.14   3.28   3.42   3.71   7837    1.0\n",
       "delta[5,1]     3.25  2.5e-3   0.22   2.83   3.11   3.25   3.39   3.67   7269    1.0\n",
       "delta[6,1]     3.22  3.1e-3   0.25   2.73   3.06   3.23   3.39    3.7   6247    1.0\n",
       "delta[7,1]     3.25  2.3e-3   0.21   2.83    3.1   3.25   3.39   3.67   8840    1.0\n",
       "delta[8,1]     3.49  2.5e-3   0.22   3.08   3.34   3.49   3.63   3.93   7427    1.0\n",
       "delta[9,1]     3.49  2.4e-3   0.21   3.09   3.35   3.49   3.64   3.92   8041    1.0\n",
       "delta[10,1]    3.49  2.4e-3   0.22   3.07   3.35   3.49   3.63   3.93   7781    1.0\n",
       "delta[11,1]    3.59  2.9e-3   0.23   3.15   3.43   3.58   3.73   4.06   6456    1.0\n",
       "delta[12,1]     3.2  2.9e-3   0.21   2.78   3.05   3.19   3.34   3.62   5425    1.0\n",
       "delta[13,1]     3.5  2.4e-3   0.21   3.08   3.35   3.49   3.64   3.94   8294    1.0\n",
       "delta[14,1]     3.2  2.6e-3   0.22   2.78   3.05    3.2   3.34   3.63   7176    1.0\n",
       "delta[15,1]    2.97  3.2e-3   0.24   2.49    2.8   2.97   3.13   3.43   5662    1.0\n",
       "delta[16,1]    3.19  2.6e-3   0.21   2.78   3.05   3.19   3.33   3.62   6832    1.0\n",
       "delta[17,1]    2.97  2.9e-3   0.24    2.5   2.82   2.97   3.13   3.44   6821    1.0\n",
       "delta[18,1]    3.49  2.6e-3   0.22   3.08   3.35   3.49   3.63   3.93   6981    1.0\n",
       "delta[19,1]    3.23  3.2e-3   0.24   2.75   3.07   3.23   3.39   3.69   5813    1.0\n",
       "delta[20,1]    3.28  2.8e-3   0.22   2.85   3.13   3.28   3.43   3.71   6352    1.0\n",
       "delta[21,1]    3.28  2.7e-3   0.22   2.85   3.14   3.28   3.43   3.72   6406    1.0\n",
       "delta[22,1]    3.34  2.3e-3   0.21   2.94   3.21   3.34   3.48   3.75   8215    1.0\n",
       "delta[23,1]    3.32  2.2e-3   0.21   2.91   3.18   3.32   3.45   3.73   8352    1.0\n",
       "delta[24,1]    3.48  2.6e-3   0.24   3.02   3.33   3.48   3.64   3.96   8326    1.0\n",
       "delta[1,2]     2.36  2.6e-3    0.2   1.97   2.22   2.35   2.49   2.76   6282    1.0\n",
       "delta[2,2]     1.81  2.4e-3    0.2   1.42   1.67   1.81   1.95   2.21   7499    1.0\n",
       "delta[3,2]     2.32  2.3e-3   0.19   1.96   2.19   2.31   2.44   2.69   6472    1.0\n",
       "delta[4,2]     1.92  2.2e-3   0.19   1.54   1.79   1.91   2.04    2.3   7765    1.0\n",
       "delta[5,2]     1.66  2.1e-3   0.19   1.29   1.54   1.66   1.78   2.03   7511    1.0\n",
       "delta[6,2]     1.49  2.4e-3   0.19   1.13   1.37   1.49   1.62   1.87   6349    1.0\n",
       "delta[7,2]     1.66  2.1e-3   0.18    1.3   1.53   1.66   1.79   2.02   7436    1.0\n",
       "delta[8,2]     2.21  2.2e-3   0.18   1.86   2.08   2.21   2.33   2.58   7275    1.0\n",
       "delta[9,2]     2.21  2.2e-3   0.19   1.85   2.08   2.21   2.34   2.59   7359    1.0\n",
       "delta[10,2]    2.21  2.1e-3   0.19   1.85   2.09   2.21   2.34   2.58   7875    1.0\n",
       "delta[11,2]    2.36  2.6e-3   0.21   1.97   2.22   2.35   2.49   2.79   6506    1.0\n",
       "delta[12,2]    2.03  2.3e-3   0.19   1.67   1.91   2.03   2.16   2.41   6425    1.0\n",
       "delta[13,2]    2.21  2.1e-3   0.19   1.85   2.09   2.21   2.34   2.59   7701    1.0\n",
       "delta[14,2]    2.03  2.9e-3   0.19   1.66    1.9   2.03   2.16   2.39   4178    1.0\n",
       "delta[15,2]    1.81  2.4e-3    0.2   1.42   1.68   1.81   1.95   2.21   7033    1.0\n",
       "delta[16,2]    2.03  2.2e-3   0.18   1.68   1.91   2.03   2.16   2.39   7237    1.0\n",
       "delta[17,2]    1.82  2.3e-3    0.2   1.43   1.68   1.82   1.95   2.21   7647    1.0\n",
       "delta[18,2]    2.21  2.1e-3   0.19   1.85   2.09   2.21   2.34   2.58   7665    1.0\n",
       "delta[19,2]    1.49  2.4e-3   0.19   1.13   1.36   1.49   1.62   1.87   6261    1.0\n",
       "delta[20,2]    1.92  2.2e-3    0.2   1.53   1.78   1.92   2.05    2.3   7904    1.0\n",
       "delta[21,2]    1.92  2.5e-3    0.2   1.54   1.79   1.92   2.05   2.31   6111    1.0\n",
       "delta[22,2]    2.38  2.3e-3   0.19   2.01   2.25   2.37   2.51   2.76   7164    1.0\n",
       "delta[23,2]    1.71  1.9e-3   0.17   1.39    1.6   1.71   1.83   2.06   7537    1.0\n",
       "delta[24,2]    2.41  2.6e-3   0.23   1.98   2.26   2.41   2.56   2.88   7934    1.0\n",
       "ter[1]         0.22  6.7e-5 6.1e-3   0.21   0.21   0.22   0.22   0.23   8342    1.0\n",
       "ter[2]         0.21  6.5e-5 6.1e-3    0.2   0.21   0.21   0.21   0.22   8573    1.0\n",
       "ter[3]         0.13  4.8e-5 4.5e-3   0.12   0.13   0.13   0.13   0.14   8951    1.0\n",
       "ter[4]         0.12  6.1e-5 5.5e-3   0.11   0.11   0.12   0.12   0.13   8269    1.0\n",
       "ter[5]         0.13  6.4e-5 5.4e-3   0.11   0.12   0.13   0.13   0.14   7137    1.0\n",
       "ter[6]         0.16  6.5e-5 5.7e-3   0.14   0.15   0.16   0.16   0.17   7808    1.0\n",
       "ter[7]         0.13  6.1e-5 5.3e-3   0.11   0.12   0.13   0.13   0.14   7635    1.0\n",
       "ter[8]         0.16  5.8e-5 5.4e-3   0.15   0.16   0.16   0.17   0.17   8662    1.0\n",
       "ter[9]         0.16  7.8e-5 5.5e-3   0.15   0.16   0.16   0.17   0.17   4986    1.0\n",
       "ter[10]        0.16  6.9e-5 5.5e-3   0.15   0.16   0.16   0.17   0.17   6366    1.0\n",
       "ter[11]        0.22  6.6e-5 6.1e-3   0.21   0.21   0.22   0.22   0.23   8400    1.0\n",
       "ter[12]        0.15  7.8e-5 7.5e-3   0.13   0.14   0.15   0.15   0.16   9288    1.0\n",
       "ter[13]        0.16  5.9e-5 5.4e-3   0.15   0.16   0.16   0.17   0.17   8291    1.0\n",
       "ter[14]        0.15  8.3e-5 7.5e-3   0.13   0.14   0.15   0.15   0.16   8256    1.0\n",
       "ter[15]        0.21  8.7e-5 6.2e-3    0.2   0.21   0.21   0.22   0.22   5129    1.0\n",
       "ter[16]        0.15  7.8e-5 7.3e-3   0.13   0.14   0.15   0.15   0.16   8799    1.0\n",
       "ter[17]        0.21  6.9e-5 6.1e-3    0.2   0.21   0.21   0.21   0.22   7720    1.0\n",
       "ter[18]        0.16  5.7e-5 5.3e-3   0.15   0.16   0.16   0.17   0.17   8646    1.0\n",
       "ter[19]        0.16  5.7e-5 5.7e-3   0.14   0.15   0.16   0.16   0.17   9786    1.0\n",
       "ter[20]        0.12  5.7e-5 5.5e-3   0.11   0.11   0.12   0.12   0.13   9264    1.0\n",
       "ter[21]        0.12  5.8e-5 5.5e-3   0.11   0.11   0.12   0.12   0.13   8924    1.0\n",
       "ter[22]        0.21  5.7e-5 5.3e-3   0.19    0.2   0.21   0.21   0.22   8410    1.0\n",
       "ter[23]        0.18  8.1e-5 6.5e-3   0.17   0.18   0.18   0.19   0.19   6404    1.0\n",
       "ter[24]        0.12  5.3e-5 4.8e-3   0.11   0.12   0.12   0.12   0.13   8265    1.0\n",
       "alpha[1,1]     1.42  1.0e-3   0.09   1.26   1.36   1.42   1.48    1.6   7596    1.0\n",
       "alpha[2,1]     1.43  9.6e-4   0.09   1.27   1.38   1.43   1.49   1.61   8014    1.0\n",
       "alpha[3,1]     1.46  1.2e-3   0.09   1.29    1.4   1.46   1.51   1.63   5347    1.0\n",
       "alpha[4,1]     1.17  7.6e-4   0.07   1.04   1.12   1.16   1.21   1.31   8292    1.0\n",
       "alpha[5,1]     1.32  8.2e-4   0.07   1.18   1.27   1.32   1.37   1.47   8247    1.0\n",
       "alpha[6,1]     1.58  1.3e-3    0.1    1.4   1.51   1.57   1.64   1.77   5112    1.0\n",
       "alpha[7,1]     1.32  8.6e-4   0.07   1.18   1.27   1.32   1.37   1.47   7229    1.0\n",
       "alpha[8,1]     1.43  1.1e-3   0.09   1.27   1.37   1.43   1.49   1.62   6851    1.0\n",
       "alpha[9,1]     1.44  9.9e-4   0.09   1.27   1.37   1.43   1.49   1.61   8086    1.0\n",
       "alpha[10,1]    1.44  1.0e-3   0.09   1.27   1.37   1.43   1.49   1.62   7365    1.0\n",
       "alpha[11,1]    1.42  1.1e-3   0.09   1.26   1.36   1.42   1.48   1.61   6743    1.0\n",
       "alpha[12,1]    1.35  8.9e-4   0.08   1.19   1.29   1.34    1.4   1.52   8775    1.0\n",
       "alpha[13,1]    1.44  1.0e-3   0.09   1.27   1.38   1.43   1.49   1.61   7163    1.0\n",
       "alpha[14,1]    1.35  9.4e-4   0.08   1.19   1.29   1.34    1.4   1.52   8033    1.0\n",
       "alpha[15,1]    1.43  1.1e-3   0.09   1.27   1.37   1.43   1.49   1.61   6099    1.0\n",
       "alpha[16,1]    1.35  8.8e-4   0.08    1.2   1.29   1.34    1.4   1.52   8667    1.0\n",
       "alpha[17,1]    1.43  1.1e-3   0.09   1.27   1.37   1.43   1.49   1.61   6465    1.0\n",
       "lp__         2065.2    0.18  11.25 2042.3 2057.9 2065.5 2072.9 2086.7   3977    1.0\n",
       "\n",
       "Samples were drawn using NUTS at Mon Nov 15 20:17:23 2021.\n",
       "For each parameter, n_eff is a crude measure of effective sample size,\n",
       "and Rhat is the potential scale reduction factor on split chains (at \n",
       "convergence, Rhat=1)."
      ]
     },
     "execution_count": 8,
     "metadata": {},
     "output_type": "execute_result"
    }
   ],
   "source": [
    "fit"
   ]
  },
  {
   "cell_type": "markdown",
   "metadata": {},
   "source": [
    "### Save model fitting"
   ]
  },
  {
   "cell_type": "code",
   "execution_count": 9,
   "metadata": {},
   "outputs": [],
   "source": [
    "fit.to_dataframe().to_csv(\"boot/\"+run+\"/\"+run+\"_modela.csv\")"
   ]
  },
  {
   "cell_type": "code",
   "execution_count": 10,
   "metadata": {},
   "outputs": [
    {
     "name": "stderr",
     "output_type": "stream",
     "text": [
      "/home/a.ghaderi/Stan/Models/New/model_wihtout_eeg/Original/utils.py:87: UserWarning: Pickling fit objects is an experimental feature!\n",
      "The relevant StanModel instance must be pickled along with this fit object.\n",
      "When unpickling the StanModel must be unpickled first.\n",
      "  pickle.dump({\"model\" : stan_model, \"fit\" : stan_fit}, f, protocol=pickle.HIGHEST_PROTOCOL)\n"
     ]
    },
    {
     "name": "stdout",
     "output_type": "stream",
     "text": [
      "Saved results to  boot/22/22_modela.pkl\n"
     ]
    }
   ],
   "source": [
    "utils.to_pickle(stan_model=sm, stan_fit= fit, save_path=\"boot/\"+run+\"/\"+run+\"_modela.pkl\")"
   ]
  },
  {
   "cell_type": "markdown",
   "metadata": {},
   "source": [
    "# $Model_p$"
   ]
  },
  {
   "cell_type": "code",
   "execution_count": 11,
   "metadata": {},
   "outputs": [],
   "source": [
    "#set inistial data for molde span\n",
    "data_winner =  {'N':boot.shape[0],              # Number of trial-level observations\n",
    "                'ncohers':2,                            # Number of coherence lelvel\n",
    "                'nparts':24,                            # Number of participants\n",
    "                'y':boot['boot_y'],                     # acc*rt in seconds \n",
    "                'participant':boot['boot_part'],        # participant index\n",
    "                'cond_coher':boot['boot_cond_coher']};  # Coherence index\n",
    "               \n",
    "niters = 10000\n",
    "nwarmup = 2000\n",
    "nchains = 3\n",
    "nthin = 2\n",
    "\n",
    "# initial sampling\n",
    "initials = utils.init_modelp(y=boot['boot_y'], parts=boot['boot_part'], nchains=nchains)"
   ]
  },
  {
   "cell_type": "code",
   "execution_count": 12,
   "metadata": {},
   "outputs": [
    {
     "name": "stderr",
     "output_type": "stream",
     "text": [
      "INFO:pystan:COMPILING THE C++ CODE FOR MODEL anon_model_f30747173589f432a8c066a6f1ef21e5 NOW.\n"
     ]
    }
   ],
   "source": [
    "modelfile = 'stan/model_p.stan'                        #read model span\n",
    "f = open(modelfile, 'r')\n",
    "model_wiener = f.read()\n",
    "# Compile the m odel\n",
    "sm = pystan.StanModel(model_code=model_wiener)"
   ]
  },
  {
   "cell_type": "code",
   "execution_count": 13,
   "metadata": {},
   "outputs": [
    {
     "name": "stderr",
     "output_type": "stream",
     "text": [
      "WARNING:pystan:Maximum (flat) parameter count (1000) exceeded: skipping diagnostic tests for n_eff and Rhat.\n",
      "To run all diagnostics call pystan.check_hmc_diagnostics(fit)\n",
      "WARNING:pystan:183 of 12000 iterations ended with a divergence (1.52 %).\n",
      "WARNING:pystan:Try running with adapt_delta larger than 0.8 to remove the divergences.\n"
     ]
    }
   ],
   "source": [
    "# Train the model and generate samples\n",
    "fit = sm.sampling(data=data_winner, iter=niters, chains=nchains, warmup=nwarmup, thin=nthin, init = initials)"
   ]
  },
  {
   "cell_type": "code",
   "execution_count": 14,
   "metadata": {
    "tags": []
   },
   "outputs": [
    {
     "name": "stderr",
     "output_type": "stream",
     "text": [
      "WARNING:pystan:Truncated summary with the 'fit.__repr__' method. For the full summary use 'print(fit)'\n"
     ]
    },
    {
     "data": {
      "text/plain": [
       "\n",
       "Warning: Shown data is truncated to 100 parameters\n",
       "For the full summary use 'print(fit)'\n",
       "\n",
       "Inference for Stan model: anon_model_f30747173589f432a8c066a6f1ef21e5.\n",
       "3 chains, each with iter=10000; warmup=2000; thin=2; \n",
       "post-warmup draws per chain=4000, total post-warmup draws=12000.\n",
       "\n",
       "               mean se_mean     sd   2.5%    25%    50%    75%  97.5%  n_eff   Rhat\n",
       "deltasd        0.32  1.1e-3   0.06    0.2   0.28   0.32   0.36   0.46   3545    1.0\n",
       "tersd          0.04  7.9e-5 6.0e-3   0.03   0.03   0.04   0.04   0.05   5729    1.0\n",
       "alphasd        0.21  4.2e-4   0.04   0.15   0.18    0.2   0.23   0.29   8047    1.0\n",
       "etasd           0.4  3.2e-3   0.14   0.15   0.29   0.39   0.49    0.7   1914    1.0\n",
       "deltahier[1]    3.3  1.4e-3    0.1   3.11   3.24    3.3   3.37   3.49   4545    1.0\n",
       "deltahier[2]    2.0  1.2e-3   0.09   1.84   1.95    2.0   2.06   2.18   5505    1.0\n",
       "terhier        0.16  7.9e-5 7.6e-3   0.15   0.16   0.16   0.17   0.18   9132    1.0\n",
       "alphahier      1.45  5.5e-4   0.05   1.35   1.42   1.45   1.48   1.54   7518    1.0\n",
       "etahier         0.4  2.9e-3   0.17   0.05   0.28   0.42   0.52   0.69   3430    1.0\n",
       "delta[1,1]     3.59  3.3e-3   0.24   3.14   3.42   3.58   3.75    4.1   5534    1.0\n",
       "delta[2,1]     2.95  3.4e-3   0.24   2.47   2.78   2.95   3.11   3.42   5226    1.0\n",
       "delta[3,1]     3.34  3.3e-3   0.22   2.92    3.2   3.33   3.48   3.77   4277    1.0\n",
       "delta[4,1]     3.24  2.5e-3   0.22   2.81   3.09   3.24   3.39   3.68   8001    1.0\n",
       "delta[5,1]     3.23  2.9e-3   0.22   2.79   3.08   3.23   3.38   3.66   5824    1.0\n",
       "delta[6,1]     3.26  3.2e-3   0.25   2.77   3.09   3.25   3.42   3.74   6018    1.0\n",
       "delta[7,1]     3.23  2.9e-3   0.22   2.81   3.09   3.23   3.38   3.66   5566    1.0\n",
       "delta[8,1]     3.51  3.1e-3   0.22   3.08   3.36    3.5   3.65   3.95   5169    1.0\n",
       "delta[9,1]     3.51  2.9e-3   0.22   3.08   3.35    3.5   3.65   3.96   5673    1.0\n",
       "delta[10,1]     3.5  2.7e-3   0.22   3.08   3.35    3.5   3.65   3.94   6630    1.0\n",
       "delta[11,1]    3.59  3.2e-3   0.24   3.15   3.43   3.59   3.75   4.09   5392    1.0\n",
       "delta[12,1]    3.16  2.5e-3   0.22   2.75   3.01   3.15    3.3   3.59   7721    1.0\n",
       "delta[13,1]     3.5  2.6e-3   0.22   3.08   3.35    3.5   3.65   3.95   7204    1.0\n",
       "delta[14,1]    3.15  3.2e-3   0.22   2.73    3.0   3.15    3.3    3.6   4670    1.0\n",
       "delta[15,1]    2.95  3.2e-3   0.24   2.47   2.79   2.95   3.12   3.42   5719    1.0\n",
       "delta[16,1]    3.16  2.8e-3   0.22   2.74   3.01   3.15    3.3   3.59   5854    1.0\n",
       "delta[17,1]    2.95  3.5e-3   0.24   2.47   2.78   2.95   3.11   3.42   4885    1.0\n",
       "delta[18,1]    3.51  2.9e-3   0.23   3.08   3.35    3.5   3.66   3.95   6061    1.0\n",
       "delta[19,1]    3.25  3.9e-3   0.25   2.76   3.08   3.25   3.41   3.74   4188    1.0\n",
       "delta[20,1]    3.24  2.5e-3   0.22   2.82    3.1   3.24   3.39   3.66   7283    1.0\n",
       "delta[21,1]    3.24  2.7e-3   0.22    2.8   3.09   3.24   3.39   3.68   6703    1.0\n",
       "delta[22,1]    3.33  3.4e-3   0.21   2.92   3.19   3.33   3.47   3.75   3888    1.0\n",
       "delta[23,1]    3.38  2.5e-3   0.21   2.97   3.24   3.38   3.52   3.81   7228    1.0\n",
       "delta[24,1]    3.44  2.8e-3   0.23   2.99   3.29   3.45    3.6    3.9   6970    1.0\n",
       "delta[1,2]     2.37  2.7e-3   0.21   1.96   2.22   2.36    2.5   2.81   6231    1.0\n",
       "delta[2,2]      1.8  2.5e-3    0.2    1.4   1.67    1.8   1.94   2.21   6613    1.0\n",
       "delta[3,2]     2.32  3.2e-3   0.19   1.94   2.19   2.32   2.45    2.7   3706    1.0\n",
       "delta[4,2]     1.89  2.6e-3    0.2   1.51   1.76   1.89   2.02   2.29   5677    1.0\n",
       "delta[5,2]     1.64  2.2e-3   0.19   1.28   1.52   1.64   1.77    2.0   6923    1.0\n",
       "delta[6,2]     1.51  2.9e-3    0.2   1.13   1.37    1.5   1.64    1.9   4704    1.0\n",
       "delta[7,2]     1.64  2.2e-3   0.19   1.27   1.52   1.64   1.77   2.01   7013    1.0\n",
       "delta[8,2]     2.22  2.6e-3   0.19   1.85   2.09   2.21   2.35    2.6   5642    1.0\n",
       "delta[9,2]     2.22  2.6e-3   0.19   1.85   2.08   2.21   2.35    2.6   5753    1.0\n",
       "delta[10,2]    2.22  2.2e-3   0.19   1.84   2.09   2.21   2.34    2.6   7381    1.0\n",
       "delta[11,2]    2.37  2.7e-3   0.21   1.96   2.22   2.36   2.51   2.81   6208    1.0\n",
       "delta[12,2]    2.04  2.2e-3   0.19   1.67   1.91   2.03   2.16   2.42   7384    1.0\n",
       "delta[13,2]    2.21  2.1e-3   0.19   1.85   2.08   2.21   2.34   2.59   7802    1.0\n",
       "delta[14,2]    2.03  2.6e-3   0.19   1.67    1.9   2.03   2.15   2.41   5270    1.0\n",
       "delta[15,2]     1.8  2.8e-3   0.21   1.39   1.66    1.8   1.94   2.21   5575    1.0\n",
       "delta[16,2]    2.03  2.2e-3   0.19   1.66   1.91   2.03   2.15   2.41   7598    1.0\n",
       "delta[17,2]     1.8  2.3e-3    0.2    1.4   1.67    1.8   1.93    2.2   7572    1.0\n",
       "delta[18,2]    2.21  2.3e-3   0.19   1.85   2.08   2.21   2.34    2.6   6925    1.0\n",
       "delta[19,2]    1.51  3.6e-3    0.2   1.12   1.37   1.51   1.64    1.9   2958    1.0\n",
       "delta[20,2]    1.89  2.2e-3    0.2    1.5   1.75   1.88   2.02   2.27   8210    1.0\n",
       "delta[21,2]    1.89  3.0e-3    0.2   1.51   1.76   1.89   2.02   2.28   4288    1.0\n",
       "delta[22,2]    2.37  3.0e-3    0.2    2.0   2.24   2.37    2.5   2.77   4442    1.0\n",
       "delta[23,2]    1.76  2.0e-3   0.17   1.43   1.64   1.76   1.88   2.11   7585    1.0\n",
       "delta[24,2]    2.38  3.2e-3   0.23   1.95   2.23   2.37   2.53   2.85   4930    1.0\n",
       "ter[1]         0.22  6.9e-5 6.4e-3    0.2   0.21   0.22   0.22   0.23   8652    1.0\n",
       "ter[2]         0.21  6.7e-5 6.3e-3    0.2   0.21   0.21   0.22   0.22   8969    1.0\n",
       "ter[3]         0.13  5.5e-5 4.9e-3   0.12   0.13   0.13   0.13   0.14   7859    1.0\n",
       "ter[4]         0.12  5.4e-5 5.3e-3   0.11   0.12   0.12   0.12   0.13   9635    1.0\n",
       "ter[5]         0.13  5.8e-5 5.3e-3   0.12   0.12   0.13   0.13   0.14   8238    1.0\n",
       "ter[6]         0.16  6.8e-5 6.1e-3   0.14   0.15   0.16   0.16   0.17   8025    1.0\n",
       "ter[7]         0.13  7.1e-5 5.4e-3   0.11   0.12   0.13   0.13   0.14   5800    1.0\n",
       "ter[8]         0.16  6.5e-5 5.6e-3   0.15   0.16   0.16   0.16   0.17   7527    1.0\n",
       "ter[9]         0.16  7.6e-5 5.7e-3   0.15   0.16   0.16   0.16   0.17   5636    1.0\n",
       "ter[10]        0.16  7.3e-5 5.7e-3   0.15   0.16   0.16   0.16   0.17   6220    1.0\n",
       "ter[11]        0.22  7.6e-5 6.5e-3    0.2   0.21   0.22   0.22   0.23   7336    1.0\n",
       "ter[12]        0.14  9.1e-5 8.3e-3   0.12   0.13   0.14   0.15   0.15   8309    1.0\n",
       "ter[13]        0.16  6.5e-5 5.6e-3   0.15   0.16   0.16   0.16   0.17   7443    1.0\n",
       "ter[14]        0.14  9.6e-5 8.4e-3   0.12   0.13   0.14   0.15   0.15   7545    1.0\n",
       "ter[15]        0.21  7.0e-5 6.2e-3    0.2   0.21   0.21   0.22   0.22   7888    1.0\n",
       "ter[16]        0.14  8.6e-5 8.3e-3   0.12   0.13   0.14   0.15   0.15   9242    1.0\n",
       "ter[17]        0.21  6.6e-5 6.3e-3    0.2   0.21   0.21   0.21   0.22   9106    1.0\n",
       "ter[18]        0.16  6.2e-5 5.7e-3   0.15   0.16   0.16   0.16   0.17   8182    1.0\n",
       "ter[19]        0.16  7.8e-5 6.1e-3   0.14   0.15   0.16   0.16   0.17   6221    1.0\n",
       "ter[20]        0.12  6.0e-5 5.4e-3   0.11   0.12   0.12   0.12   0.13   8090    1.0\n",
       "ter[21]        0.12  6.0e-5 5.4e-3   0.11   0.12   0.12   0.12   0.13   8054    1.0\n",
       "ter[22]         0.2  6.8e-5 6.0e-3   0.19    0.2    0.2   0.21   0.21   7644    1.0\n",
       "ter[23]        0.18  8.4e-5 7.4e-3   0.16   0.17   0.18   0.18   0.19   7626    1.0\n",
       "ter[24]        0.12  5.1e-5 4.5e-3   0.11   0.12   0.12   0.13   0.13   7884    1.0\n",
       "alpha[1]       1.47  1.1e-3   0.09   1.31   1.41   1.47   1.53   1.65   6512    1.0\n",
       "alpha[2]       1.38  8.7e-4   0.08   1.24   1.32   1.37   1.42   1.54   7686    1.0\n",
       "alpha[3]       1.59  8.7e-4   0.08   1.44   1.53   1.58   1.64   1.75   8263    1.0\n",
       "alpha[4]       1.18  7.2e-4   0.06   1.07   1.14   1.18   1.22   1.31   6946    1.0\n",
       "alpha[5]       1.31  6.7e-4   0.06    1.2   1.27   1.31   1.36   1.45   8915    1.0\n",
       "alpha[6]       1.65  1.3e-3   0.09   1.49   1.59   1.65   1.71   1.84   4934    1.0\n",
       "alpha[7]       1.32  7.8e-4   0.06    1.2   1.27   1.31   1.36   1.45   6886    1.0\n",
       "alpha[8]       1.51  9.2e-4   0.08   1.36   1.45    1.5   1.56   1.67   7519    1.0\n",
       "alpha[9]       1.51  9.8e-4   0.08   1.36   1.45   1.51   1.56   1.67   6827    1.0\n",
       "alpha[10]      1.51  8.6e-4   0.08   1.36   1.45    1.5   1.56   1.67   8781    1.0\n",
       "alpha[11]      1.47  1.0e-3   0.08   1.32   1.41   1.46   1.52   1.65   6635    1.0\n",
       "alpha[12]      1.55  1.0e-3   0.09   1.39   1.49   1.54    1.6   1.73   7628    1.0\n",
       "alpha[13]      1.51  9.0e-4   0.08   1.36   1.45    1.5   1.56   1.67   7950    1.0\n",
       "alpha[14]      1.54  1.1e-3   0.09   1.39   1.48   1.54    1.6   1.73   6209    1.0\n",
       "alpha[15]      1.37  8.6e-4   0.08   1.24   1.32   1.37   1.42   1.54   7878    1.0\n",
       "alpha[16]      1.55  9.8e-4   0.09   1.38   1.48   1.54    1.6   1.73   8183    1.0\n",
       "alpha[17]      1.38  8.7e-4   0.08   1.24   1.32   1.37   1.43   1.54   7683    1.0\n",
       "alpha[18]      1.51  9.9e-4   0.08   1.36   1.45    1.5   1.56   1.67   6812    1.0\n",
       "lp__         2016.6    0.21  10.73 1995.0 2009.5 2016.7 2023.7 2037.5   2524    1.0\n",
       "\n",
       "Samples were drawn using NUTS at Mon Nov 15 21:29:33 2021.\n",
       "For each parameter, n_eff is a crude measure of effective sample size,\n",
       "and Rhat is the potential scale reduction factor on split chains (at \n",
       "convergence, Rhat=1)."
      ]
     },
     "execution_count": 14,
     "metadata": {},
     "output_type": "execute_result"
    }
   ],
   "source": [
    "fit"
   ]
  },
  {
   "cell_type": "code",
   "execution_count": 15,
   "metadata": {},
   "outputs": [],
   "source": [
    "fit.to_dataframe().to_csv(\"boot/\"+run+\"/\"+run+\"_modelp.csv\")"
   ]
  },
  {
   "cell_type": "code",
   "execution_count": 16,
   "metadata": {},
   "outputs": [
    {
     "name": "stderr",
     "output_type": "stream",
     "text": [
      "/home/a.ghaderi/Stan/Models/New/model_wihtout_eeg/Original/utils.py:87: UserWarning: Pickling fit objects is an experimental feature!\n",
      "The relevant StanModel instance must be pickled along with this fit object.\n",
      "When unpickling the StanModel must be unpickled first.\n",
      "  pickle.dump({\"model\" : stan_model, \"fit\" : stan_fit}, f, protocol=pickle.HIGHEST_PROTOCOL)\n"
     ]
    },
    {
     "name": "stdout",
     "output_type": "stream",
     "text": [
      "Saved results to  boot/22/22_modelp.pkl\n"
     ]
    }
   ],
   "source": [
    "utils.to_pickle(stan_model=sm, stan_fit= fit, save_path=\"boot/\"+run+\"/\"+run+\"_modelp.pkl\")"
   ]
  },
  {
   "cell_type": "code",
   "execution_count": 17,
   "metadata": {},
   "outputs": [
    {
     "name": "stdout",
     "output_type": "stream",
     "text": [
      "1\n"
     ]
    }
   ],
   "source": [
    "print(1)"
   ]
  },
  {
   "cell_type": "code",
   "execution_count": null,
   "metadata": {},
   "outputs": [],
   "source": []
  },
  {
   "cell_type": "code",
   "execution_count": null,
   "metadata": {},
   "outputs": [],
   "source": []
  },
  {
   "cell_type": "code",
   "execution_count": null,
   "metadata": {},
   "outputs": [],
   "source": []
  },
  {
   "cell_type": "code",
   "execution_count": null,
   "metadata": {},
   "outputs": [],
   "source": []
  }
 ],
 "metadata": {
  "kernelspec": {
   "display_name": "Python 3",
   "language": "python",
   "name": "python3"
  },
  "language_info": {
   "codemirror_mode": {
    "name": "ipython",
    "version": 3
   },
   "file_extension": ".py",
   "mimetype": "text/x-python",
   "name": "python",
   "nbconvert_exporter": "python",
   "pygments_lexer": "ipython3",
   "version": "3.7.10"
  }
 },
 "nbformat": 4,
 "nbformat_minor": 4
}
