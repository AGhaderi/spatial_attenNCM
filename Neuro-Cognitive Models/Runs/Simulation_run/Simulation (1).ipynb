{
 "cells": [
  {
   "cell_type": "code",
   "execution_count": 1,
   "id": "453ca19a-1a9d-4c66-acf9-195de7fd08b0",
   "metadata": {},
   "outputs": [],
   "source": [
    "import numpy as np\n",
    "import pandas as pd\n",
    "import seaborn as sns\n",
    "import time"
   ]
  },
  {
   "cell_type": "code",
   "execution_count": 2,
   "id": "a2703278-d121-4f3f-b0dd-f2af62cc564f",
   "metadata": {},
   "outputs": [],
   "source": [
    "def diffusion_trial(drift, boundary, beta, t_e_mean, t_m_mean, dc=1.0, dt=.005, max_steps=2e4):\n",
    "    \"\"\"Simulates a trial from the diffusion model.\"\"\"\n",
    "\n",
    "    n_steps = 0.\n",
    "    evidence = boundary * beta\n",
    "\n",
    "    # Simulate a single DM path\n",
    "    while (evidence > 0 and evidence < boundary and n_steps < max_steps):\n",
    "\n",
    "        # DDM equation\n",
    "        evidence += drift*dt + np.sqrt(dt) * dc * np.random.normal()\n",
    "\n",
    "        # Increment step\n",
    "        n_steps += 1.0\n",
    "\n",
    "    rt = n_steps * dt\n",
    "    \n",
    "    # Encoding time\n",
    "    t_e = np.random.normal(t_e_mean, .1)\n",
    "    # N200 latency\n",
    "    N200 =  np.random.normal(.5*t_e, .05)\n",
    "\n",
    "    # Motor execturion time\n",
    "    t_m = np.random.normal(t_m_mean, .1)\n",
    "    \n",
    "    if evidence >= boundary:\n",
    "        choicert =  t_e + rt + t_m\n",
    "        \n",
    "    elif evidence <= 0:\n",
    "        choicert = -t_e - rt - t_m\n",
    "    else:\n",
    "        choicert = np.sign(evidence - boundary*.5)*(t_e + rt + t_m)  # Choose closest boundary at max_steps\n",
    "    return choicert, N200"
   ]
  },
  {
   "cell_type": "markdown",
   "id": "636f9467-2096-4c2d-b0df-833cf04f4456",
   "metadata": {},
   "source": [
    "###### Simulation participant 1"
   ]
  },
  {
   "cell_type": "code",
   "execution_count": 10,
   "id": "0d2c82d5-3d1b-4e6b-8dad-95cb4e9d630f",
   "metadata": {},
   "outputs": [],
   "source": [
    "def sim1_condition(params, n_trials):\n",
    "    \"\"\"Simulates a diffusion process over an entire condition.\"\"\"\n",
    "    itr = int(n_trials/4)\n",
    "    drift, boundary, beta, t_e_mean, t_m_mean = params\n",
    "    choicert = np.empty(n_trials)\n",
    "    N200 = np.empty(n_trials)\n",
    "    cond_spat = np.empty(n_trials)\n",
    "    cond_coher = np.empty(n_trials) \n",
    "    np.random.seed(123)\n",
    "    for i in range(itr):\n",
    "        choicert[i], N200[i] = diffusion_trial(drift[0], boundary, beta, t_e_mean[0], t_m_mean)\n",
    "        choicert[itr + i], N200[itr + i] = diffusion_trial(drift[0], boundary, beta, t_e_mean[1], t_m_mean)\n",
    "        choicert[2*itr + i], N200[2*itr + i] = diffusion_trial(drift[1], boundary, beta, t_e_mean[0], t_m_mean)\n",
    "        choicert[3*itr + i], N200[3*itr + i] = diffusion_trial(drift[1], boundary, beta, t_e_mean[1], t_m_mean)\n",
    "    \n",
    "    cond_spat = np.concatenate([np.repeat(1,itr),np.repeat(2,itr), np.repeat(1,itr),np.repeat(2,itr)])\n",
    "    cond_coher = np.concatenate([np.repeat(1,itr),np.repeat(1,itr), np.repeat(2,itr),np.repeat(2,itr)])\n",
    "    conds = np.concatenate([np.repeat(1,itr), np.repeat(2,itr), np.repeat(3,itr), np.repeat(4,itr)])\n",
    "    \n",
    "    return choicert, cond_spat, cond_coher, conds, N200\n",
    "\n",
    "choicert, cond_spat,cond_coher, conds, N200  = sim1_condition(params=[[2.5, 1.5], 1.5, .5,  [.3, .5], .4], n_trials=288)\n",
    "sim1_dic = {'y':choicert, 'cond_spat':cond_spat, 'cond_coher':cond_coher, 'conds':conds, 'n200lat': N200}\n",
    "sim1_df = pd.DataFrame(sim1_dic)\n",
    "sim1_df.to_csv('sim1.csv', index=False)"
   ]
  },
  {
   "cell_type": "markdown",
   "id": "8a7384b1-da16-4578-ab56-852e02c372ab",
   "metadata": {},
   "source": [
    "###### Simulation participant 2"
   ]
  },
  {
   "cell_type": "code",
   "execution_count": 3,
   "id": "8829fdaf-3ae6-45f1-a7b9-59a3e782a83c",
   "metadata": {},
   "outputs": [],
   "source": [
    "def sim2_condition(params, n_trials):\n",
    "    \"\"\"Simulates a diffusion process over an entire condition.\"\"\"\n",
    "    itr = int(n_trials/4)\n",
    "    drift, boundary, beta, t_e_mean, t_m_mean = params\n",
    "    choicert = np.empty(n_trials)\n",
    "    N200 = np.empty(n_trials)\n",
    "    cond_spat = np.empty(n_trials)\n",
    "    cond_coher = np.empty(n_trials)\n",
    "    np.random.seed(123)\n",
    "    for i in range(itr):\n",
    "        choicert[i], N200[i] = diffusion_trial(drift[0], boundary, beta, t_e_mean, t_m_mean[0])\n",
    "        choicert[itr + i], N200[itr + i] = diffusion_trial(drift[0], boundary, beta, t_e_mean, t_m_mean[1])\n",
    "        choicert[2*itr + i], N200[2*itr + i] = diffusion_trial(drift[1], boundary, beta, t_e_mean, t_m_mean[0])\n",
    "        choicert[3*itr + i], N200[3*itr + i] = diffusion_trial(drift[1], boundary, beta, t_e_mean, t_m_mean[1])\n",
    "    \n",
    "    cond_spat = np.concatenate([np.repeat(1,itr),np.repeat(2,itr), np.repeat(1,itr),np.repeat(2,itr)])\n",
    "    cond_coher = np.concatenate([np.repeat(1,itr),np.repeat(1,itr), np.repeat(2,itr),np.repeat(2,itr)])\n",
    "    conds = np.concatenate([np.repeat(1,itr), np.repeat(2,itr), np.repeat(3,itr), np.repeat(4,itr)])\n",
    "    \n",
    "    return choicert, cond_spat, cond_coher, conds, N200\n",
    "\n",
    "choicert, cond_spat,cond_coher, conds, N200  = sim2_condition(params=[[2.5, 1.5], 1.5, .5,  .3, [.4, .6]], n_trials=500)\n",
    "sim2_dic = {'y':choicert, 'cond_spat':cond_spat, 'cond_coher':cond_coher, 'conds':conds, 'n200lat': N200}\n",
    "sim2_df = pd.DataFrame(sim2_dic)\n",
    "sim2_df.to_csv('sim2.csv', index=False)"
   ]
  },
  {
   "cell_type": "markdown",
   "id": "49df42f3-e2f2-4785-b442-8ba45028abb6",
   "metadata": {},
   "source": [
    "###### Simulation participant 3"
   ]
  },
  {
   "cell_type": "code",
   "execution_count": 4,
   "id": "491c477d-c850-49d6-8823-b5680416520e",
   "metadata": {},
   "outputs": [],
   "source": [
    "def sim3_condition(params, n_trials):\n",
    "    \"\"\"Simulates a diffusion process over an entire condition.\"\"\"\n",
    "    itr = int(n_trials/4)\n",
    "    drift, boundary, beta, t_e_mean, t_m_mean = params\n",
    "    choicert = np.empty(n_trials)\n",
    "    N200 = np.empty(n_trials)\n",
    "    cond_spat = np.empty(n_trials)\n",
    "    cond_coher = np.empty(n_trials)\n",
    "    np.random.seed(123)\n",
    "    for i in range(itr):\n",
    "        choicert[i], N200[i] = diffusion_trial(drift[0], boundary, beta, t_e_mean[0], t_m_mean[0])\n",
    "        choicert[itr + i], N200[itr + i] = diffusion_trial(drift[0], boundary, beta, t_e_mean[1], t_m_mean[1])\n",
    "        choicert[2*itr + i], N200[2*itr + i] = diffusion_trial(drift[1], boundary, beta, t_e_mean[0], t_m_mean[0])\n",
    "        choicert[3*itr + i], N200[3*itr + i] = diffusion_trial(drift[1], boundary, beta, t_e_mean[1], t_m_mean[1])\n",
    "    \n",
    "    cond_spat = np.concatenate([np.repeat(1,itr),np.repeat(2,itr), np.repeat(1,itr),np.repeat(2,itr)])\n",
    "    cond_coher = np.concatenate([np.repeat(1,itr),np.repeat(1,itr), np.repeat(2,itr),np.repeat(2,itr)])\n",
    "    conds = np.concatenate([np.repeat(1,itr), np.repeat(2,itr), np.repeat(3,itr), np.repeat(4,itr)])\n",
    "    \n",
    "    return choicert, cond_spat, cond_coher, conds, N200\n",
    "\n",
    "choicert, cond_spat,cond_coher, conds, N200  = sim3_condition(params=[[2.5, 1.5], 1.5, .5,  [.3, .5], [.4, .6]], n_trials=500)\n",
    "sim3_dic = {'y':choicert, 'cond_spat':cond_spat, 'cond_coher':cond_coher, 'conds':conds, 'n200lat': N200}\n",
    "sim3_df = pd.DataFrame(sim3_dic)\n",
    "sim3_df.to_csv('sim3.csv', index=False)"
   ]
  },
  {
   "cell_type": "code",
   "execution_count": null,
   "id": "f1efc109-197b-4060-bbf6-b5acc3803ba7",
   "metadata": {},
   "outputs": [],
   "source": []
  }
 ],
 "metadata": {
  "kernelspec": {
   "display_name": "Python 3",
   "language": "python",
   "name": "python3"
  },
  "language_info": {
   "codemirror_mode": {
    "name": "ipython",
    "version": 3
   },
   "file_extension": ".py",
   "mimetype": "text/x-python",
   "name": "python",
   "nbconvert_exporter": "python",
   "pygments_lexer": "ipython3",
   "version": "3.7.10"
  }
 },
 "nbformat": 4,
 "nbformat_minor": 5
}
